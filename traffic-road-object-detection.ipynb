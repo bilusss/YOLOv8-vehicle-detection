{
 "cells": [
  {
   "cell_type": "markdown",
   "id": "1a795d0b",
   "metadata": {},
   "source": [
    "Imports"
   ]
  },
  {
   "cell_type": "code",
   "execution_count": 21,
   "id": "37cc49ea",
   "metadata": {},
   "outputs": [],
   "source": [
    "import kagglehub\n",
    "import pandas as pd\n",
    "import matplotlib.pyplot as plt\n",
    "import random\n",
    "import os\n",
    "import cv2"
   ]
  },
  {
   "cell_type": "markdown",
   "id": "e684bf7d",
   "metadata": {},
   "source": [
    "Visualize images in the dataset"
   ]
  },
  {
   "cell_type": "code",
   "execution_count": 16,
   "id": "7cd60d73",
   "metadata": {},
   "outputs": [],
   "source": [
    "# Download the dataset from Kaggle\n",
    "dataset_dir = kagglehub.dataset_download(\"boukraailyesali/traffic-road-object-detection-dataset-using-yolo\")\n",
    "print(f\"Dataset downloaded to: {dataset_dir}\")\n",
    "\n",
    "# Specify the directory containing train and val images\n",
    "train_dir = os.path.join(dataset_dir, \"train/images\")\n",
    "label_dir_train = os.path.join(dataset_dir, \"train/labels\")\n",
    "val_dir = os.path.join(dataset_dir, \"val/images\")\n",
    "label_dir_val = os.path.join(dataset_dir, \"val/labels\")\n",
    "\n",
    "# Get a list of all image files in the train directory\n",
    "image_files = [f for f in os.listdir(train_dir) if f.endswith((\".jpg\", \".jpeg\"))]"
   ]
  },
  {
   "cell_type": "markdown",
   "id": "640469f8",
   "metadata": {},
   "source": [
    "Visualize only one image"
   ]
  },
  {
   "cell_type": "code",
   "execution_count": 18,
   "id": "8f5e2bed",
   "metadata": {},
   "outputs": [],
   "source": [
    "# Randomly select one image file\n",
    "random_image = random.choice(image_files)\n",
    "\n",
    "# Load and display the selected image\n",
    "image_path = os.path.join(train_dir, random_image)\n",
    "image = cv2.imread(image_path)\n",
    "image_shape = image.shape\n",
    "if image is not None:\n",
    "  # OpenCV reads images in BGR format, so convert to RGB for Matplotlib\n",
    "  plt.imshow(cv2.cvtColor(image, cv2.COLOR_BGR2RGB))\n",
    "  plt.title(f\"Randomly Selected Image: {random_image} (Shape: {image_shape})\")\n",
    "  plt.axis('off')\n",
    "  plt.show()\n",
    "else:\n",
    "  print(f\"Failed to load image: {random_image}\")"
   ]
  },
  {
   "cell_type": "markdown",
   "id": "9c58a2e3",
   "metadata": {},
   "source": [
    "Visualize three random images"
   ]
  },
  {
   "cell_type": "code",
   "execution_count": 19,
   "id": "b27e561a",
   "metadata": {},
   "outputs": [],
   "source": [
    "# Randomly select 3 images to display\n",
    "random_images = random.sample(image_files, 3)\n",
    "\n",
    "# Create a subplot with 1 row and 3 columns\n",
    "plt.figure(figsize=(15, 5))\n",
    "for i, image_file in enumerate(random_images):\n",
    "  image_path = os.path.join(train_dir, image_file)\n",
    "  image = cv2.imread(image_path)  # Read the image using OpenCV\n",
    "\n",
    "  if image is not None:\n",
    "    plt.subplot(1, 3, i + 1)\n",
    "    # OpenCV reads images in BGR format, so convert to RGB for Matplotlib\n",
    "    plt.imshow(cv2.cvtColor(image, cv2.COLOR_BGR2RGB))  \n",
    "    plt.title(image_file)\n",
    "    plt.axis('off')\n",
    "\n",
    "plt.show()"
   ]
  },
  {
   "cell_type": "markdown",
   "id": "753bd841",
   "metadata": {},
   "source": [
    "Open classes file"
   ]
  },
  {
   "cell_type": "code",
   "execution_count": 26,
   "id": "1dfcc18d",
   "metadata": {},
   "outputs": [],
   "source": [
    "class_file_path =  os.path.join(dataset_dir, \"classes.txt\")\n",
    "#\"/kaggle/input/traffic-road-object-detection-dataset-using-yolo/version/1/classes.txt\"\n",
    "\n",
    "print(class_file_path)\n",
    "\n",
    "with open(class_file_path, 'r') as file:\n",
    "  classes = file.read().splitlines()\n",
    "\n",
    "if len(classes) > 0:\n",
    "  print(\"Classes in the dataset:\")\n",
    "  for class_label in classes:\n",
    "    print(class_label)\n",
    "else:\n",
    "  print(\"No classes found in the classes.txt file.\")\n"
   ]
  },
  {
   "cell_type": "markdown",
   "id": "b7c28a67",
   "metadata": {},
   "source": [
    "How labels looks like"
   ]
  },
  {
   "cell_type": "code",
   "execution_count": 31,
   "id": "e2f666dc",
   "metadata": {},
   "outputs": [],
   "source": [
    "label_file_path = os.path.join(dataset_dir, \"train/labels\", random_image.replace('.jpg', '.txt'))\n",
    "\n",
    "# Read the label file into a pandas DataFrame\n",
    "column_names = ['class', 'x_min', 'y_min', 'x_max', 'y_max']\n",
    "df = pd.read_csv(label_file_path, sep=' ', header=None, names=column_names)\n",
    "df"
   ]
  },
  {
   "cell_type": "markdown",
   "id": "88253d04",
   "metadata": {},
   "source": [
    "Count number of images and percentage between train and val"
   ]
  },
  {
   "cell_type": "code",
   "execution_count": 32,
   "id": "61a28f0b",
   "metadata": {},
   "outputs": [],
   "source": [
    "# Count number of images in each directory\n",
    "num_train_images = len([f for f in os.listdir(train_dir) if f.endswith((\".jpg\", \".jpeg\"))])\n",
    "num_val_images = len([f for f in os.listdir(val_dir) if f.endswith((\".jpg\", \".jpeg\"))])\n",
    "\n",
    "# Calculate the number of images\n",
    "total_images = num_train_images + num_val_images\n",
    "\n",
    "# Calculate the percentage of images in each directory\n",
    "percentage_train = (num_train_images / total_images) * 100\n",
    "percentage_val = (num_val_images / total_images) * 100\n",
    "\n",
    "print(f\"Total number of images: {total_images}\")\n",
    "print(f\"Number of training images: {num_train_images} ({percentage_train:.2f}%)\")\n",
    "print(f\"Number of validation images: {num_val_images} ({percentage_val:.2f}%)\")"
   ]
  },
  {
   "cell_type": "markdown",
   "id": "136e4370",
   "metadata": {},
   "source": [
    "Visualize one image with bounding boxes"
   ]
  },
  {
   "cell_type": "code",
   "execution_count": 33,
   "id": "b410ae16",
   "metadata": {},
   "outputs": [],
   "source": [
    "# Randomly selected image to display\n",
    "random_image = random.choice(image_files)\n",
    "\n",
    "# Load the selected image\n",
    "image_path = os.path.join(train_dir, random_image)\n",
    "image = cv2.imread(image_path) # Read the image using OpenCV\n",
    "\n",
    "# Load the corresponding label file\n",
    "label_file_path = os.path.join(label_dir_train, random_image.replace('.jpg', '.txt'))\n",
    "\n",
    "# Image shape\n",
    "image_height, image_width, _ = image.shape\n",
    "\n",
    "# Read YOLO labels from the label file\n",
    "with open(label_file_path, 'r') as file:\n",
    "  yolo_labels = file.readlines()\n",
    "  \n",
    "# Convert relative coordinates to absolute coordinates and draw rectangles\n",
    "for label in yolo_labels:\n",
    "  class_id, x_center, y_center, width, height = map(float, label.split())\n",
    "  \n",
    "  # Convert relative coordinates to absolute coordinates\n",
    "  x_center *= image_width\n",
    "  y_center *= image_height\n",
    "  width *= image_width\n",
    "  height *= image_height\n",
    "\n",
    "  # Calculate top-left and bottom-right coordinates\n",
    "  x1 = int(x_center - width / 2)\n",
    "  y1 = int(y_center - height / 2)\n",
    "  x2 = int(x_center + width / 2)\n",
    "  y2 = int(y_center + height / 2)\n",
    "\n",
    "  color = (0, 0, 255)\n",
    "  thikness = 2\n",
    "  # Draw rectangle on the image\n",
    "  cv2.rectangle(image, (x1, y1), (x2, y2), color, thikness)\n",
    "\n",
    "# Display the image with rectangles\n",
    "plt.imshow(cv2.cvtColor(image, cv2.COLOR_BGR2RGB))\n",
    "plt.show()"
   ]
  },
  {
   "cell_type": "markdown",
   "id": "0960b45c",
   "metadata": {},
   "source": [
    "Visualize 3 images with the corresponding bounding box"
   ]
  },
  {
   "cell_type": "code",
   "execution_count": 35,
   "id": "00444a3e",
   "metadata": {},
   "outputs": [],
   "source": [
    "# Function to draw bounding boxes on an image\n",
    "def convert_coordinates(x_center, y_center, width, height, image_width, image_height):\n",
    "  x_center *= image_width\n",
    "  y_center *= image_height\n",
    "  width *= image_width\n",
    "  height *= image_height\n",
    "\n",
    "  x1 = int(x_center - width / 2)\n",
    "  y1 = int(y_center - height / 2)\n",
    "  x2 = int(x_center + width / 2)\n",
    "  y2 = int(y_center + height / 2)\n",
    "\n",
    "  return x1, y1, x2, y2"
   ]
  },
  {
   "cell_type": "code",
   "execution_count": 36,
   "id": "5124a147",
   "metadata": {},
   "outputs": [],
   "source": [
    "# Number of images to display\n",
    "num_images = 3\n",
    "\n",
    "# Create subplots\n",
    "fig, axes = plt.subplots(1, num_images, figsize=(30, 30))\n",
    "\n",
    "for i in range(num_images):\n",
    "    # Randomly select one image to display\n",
    "    random_image = random.choice(image_files)\n",
    "\n",
    "    # Load the selected image\n",
    "    image_path = os.path.join(train_dir, random_image)\n",
    "    image = cv2.imread(image_path)  # Read the image using OpenCV\n",
    "\n",
    "    # Load the corresponding label file\n",
    "    label_file_path = os.path.join(label_dir_train, random_image.replace('.jpg', '.txt'))\n",
    "\n",
    "    # Image shape\n",
    "    image_height, image_width, _ = image.shape\n",
    "\n",
    "    # Read YOLO labels from the label file\n",
    "    with open(label_file_path, 'r') as file:\n",
    "        yolo_labels = file.readlines()\n",
    "\n",
    "    # Convert relative coordinates to absolute coordinates and draw rectangles\n",
    "    for label in yolo_labels:\n",
    "        class_id, x_center, y_center, width, height = map(float, label.split())\n",
    "\n",
    "        x1, y1, x2, y2 = convert_coordinates(x_center, y_center, width, height, image_width, image_height)\n",
    "\n",
    "        color = (0, 0, 255)\n",
    "        thickness = 2\n",
    "        # Draw rectangle on the image\n",
    "        cv2.rectangle(image, (x1, y1), (x2, y2), color, thickness)\n",
    "\n",
    "    # Display the image with rectangles in the subplot\n",
    "    axes[i].imshow(cv2.cvtColor(image, cv2.COLOR_BGR2RGB))\n",
    "    axes[i].axis('off')  # Turn off axis labels\n",
    "\n",
    "plt.show()"
   ]
  }
 ],
 "metadata": {
  "kernelspec": {
   "display_name": "Python 3 (ipykernel)",
   "language": "python",
   "name": "python3"
  }
 },
 "nbformat": 4,
 "nbformat_minor": 5
}
